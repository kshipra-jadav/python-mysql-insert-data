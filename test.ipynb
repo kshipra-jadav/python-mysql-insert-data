{
 "cells": [
  {
   "cell_type": "code",
   "execution_count": 1,
   "metadata": {},
   "outputs": [],
   "source": [
    "import pandas as pd"
   ]
  },
  {
   "cell_type": "code",
   "execution_count": 2,
   "metadata": {},
   "outputs": [
    {
     "data": {
      "text/html": [
       "<div>\n",
       "<style scoped>\n",
       "    .dataframe tbody tr th:only-of-type {\n",
       "        vertical-align: middle;\n",
       "    }\n",
       "\n",
       "    .dataframe tbody tr th {\n",
       "        vertical-align: top;\n",
       "    }\n",
       "\n",
       "    .dataframe thead th {\n",
       "        text-align: right;\n",
       "    }\n",
       "</style>\n",
       "<table border=\"1\" class=\"dataframe\">\n",
       "  <thead>\n",
       "    <tr style=\"text-align: right;\">\n",
       "      <th></th>\n",
       "      <th>id</th>\n",
       "      <th>prn</th>\n",
       "      <th>student_fname</th>\n",
       "      <th>student_mname</th>\n",
       "      <th>student_lname</th>\n",
       "      <th>student_email</th>\n",
       "      <th>student_batch</th>\n",
       "    </tr>\n",
       "  </thead>\n",
       "  <tbody>\n",
       "    <tr>\n",
       "      <th>0</th>\n",
       "      <td>5</td>\n",
       "      <td>5</td>\n",
       "      <td>arsh</td>\n",
       "      <td>idk</td>\n",
       "      <td>vora</td>\n",
       "      <td>arsh@gmail.pk</td>\n",
       "      <td>gym</td>\n",
       "    </tr>\n",
       "    <tr>\n",
       "      <th>1</th>\n",
       "      <td>6</td>\n",
       "      <td>6</td>\n",
       "      <td>daksh</td>\n",
       "      <td>idk</td>\n",
       "      <td>soni</td>\n",
       "      <td>daksh@hotmail.com</td>\n",
       "      <td>music</td>\n",
       "    </tr>\n",
       "    <tr>\n",
       "      <th>2</th>\n",
       "      <td>7</td>\n",
       "      <td>7</td>\n",
       "      <td>aum</td>\n",
       "      <td>idk</td>\n",
       "      <td>kulkarni</td>\n",
       "      <td>aum@yahoo.com</td>\n",
       "      <td>bca</td>\n",
       "    </tr>\n",
       "  </tbody>\n",
       "</table>\n",
       "</div>"
      ],
      "text/plain": [
       "   id  prn student_fname student_mname student_lname      student_email  \\\n",
       "0   5    5          arsh           idk          vora      arsh@gmail.pk   \n",
       "1   6    6         daksh           idk          soni  daksh@hotmail.com   \n",
       "2   7    7           aum           idk      kulkarni      aum@yahoo.com   \n",
       "\n",
       "  student_batch  \n",
       "0           gym  \n",
       "1         music  \n",
       "2           bca  "
      ]
     },
     "execution_count": 2,
     "metadata": {},
     "output_type": "execute_result"
    }
   ],
   "source": [
    "df = pd.read_excel('student_details.xlsx')\n",
    "\n",
    "df"
   ]
  },
  {
   "cell_type": "code",
   "execution_count": 3,
   "metadata": {},
   "outputs": [],
   "source": [
    "from datetime import datetime\n",
    "\n",
    "\n",
    "now = datetime.now()\n",
    "\n",
    "# Format 2022-09-04 01:15:00\n",
    "curr_dt = now.strftime(\"%Y-%m-%d %H:%M:%S\")\n",
    "\n",
    "curr_dt # this is in mysql datetime format\n",
    "\n",
    "df['dt'] = curr_dt\n"
   ]
  },
  {
   "cell_type": "code",
   "execution_count": 4,
   "metadata": {},
   "outputs": [
    {
     "data": {
      "text/html": [
       "<div>\n",
       "<style scoped>\n",
       "    .dataframe tbody tr th:only-of-type {\n",
       "        vertical-align: middle;\n",
       "    }\n",
       "\n",
       "    .dataframe tbody tr th {\n",
       "        vertical-align: top;\n",
       "    }\n",
       "\n",
       "    .dataframe thead th {\n",
       "        text-align: right;\n",
       "    }\n",
       "</style>\n",
       "<table border=\"1\" class=\"dataframe\">\n",
       "  <thead>\n",
       "    <tr style=\"text-align: right;\">\n",
       "      <th></th>\n",
       "      <th>id</th>\n",
       "      <th>prn</th>\n",
       "      <th>student_fname</th>\n",
       "      <th>student_mname</th>\n",
       "      <th>student_lname</th>\n",
       "      <th>student_email</th>\n",
       "      <th>student_batch</th>\n",
       "      <th>dt</th>\n",
       "    </tr>\n",
       "  </thead>\n",
       "  <tbody>\n",
       "    <tr>\n",
       "      <th>0</th>\n",
       "      <td>5</td>\n",
       "      <td>5</td>\n",
       "      <td>arsh</td>\n",
       "      <td>idk</td>\n",
       "      <td>vora</td>\n",
       "      <td>arsh@gmail.pk</td>\n",
       "      <td>gym</td>\n",
       "      <td>2022-09-04 19:53:54</td>\n",
       "    </tr>\n",
       "    <tr>\n",
       "      <th>1</th>\n",
       "      <td>6</td>\n",
       "      <td>6</td>\n",
       "      <td>daksh</td>\n",
       "      <td>idk</td>\n",
       "      <td>soni</td>\n",
       "      <td>daksh@hotmail.com</td>\n",
       "      <td>music</td>\n",
       "      <td>2022-09-04 19:53:54</td>\n",
       "    </tr>\n",
       "    <tr>\n",
       "      <th>2</th>\n",
       "      <td>7</td>\n",
       "      <td>7</td>\n",
       "      <td>aum</td>\n",
       "      <td>idk</td>\n",
       "      <td>kulkarni</td>\n",
       "      <td>aum@yahoo.com</td>\n",
       "      <td>bca</td>\n",
       "      <td>2022-09-04 19:53:54</td>\n",
       "    </tr>\n",
       "  </tbody>\n",
       "</table>\n",
       "</div>"
      ],
      "text/plain": [
       "   id  prn student_fname student_mname student_lname      student_email  \\\n",
       "0   5    5          arsh           idk          vora      arsh@gmail.pk   \n",
       "1   6    6         daksh           idk          soni  daksh@hotmail.com   \n",
       "2   7    7           aum           idk      kulkarni      aum@yahoo.com   \n",
       "\n",
       "  student_batch                   dt  \n",
       "0           gym  2022-09-04 19:53:54  \n",
       "1         music  2022-09-04 19:53:54  \n",
       "2           bca  2022-09-04 19:53:54  "
      ]
     },
     "execution_count": 4,
     "metadata": {},
     "output_type": "execute_result"
    }
   ],
   "source": [
    "df"
   ]
  },
  {
   "cell_type": "code",
   "execution_count": 6,
   "metadata": {},
   "outputs": [],
   "source": [
    "import mysql.connector\n",
    "\n",
    "db = mysql.connector.connect(\n",
    "host=\"localhost\",\n",
    "user=\"root\",\n",
    "password=\"root\",\n",
    "database=\"Student_details\"\n",
    ")\n",
    "\n",
    "cursor = db.cursor()"
   ]
  },
  {
   "cell_type": "code",
   "execution_count": 7,
   "metadata": {},
   "outputs": [
    {
     "name": "stdout",
     "output_type": "stream",
     "text": [
      "None\n"
     ]
    }
   ],
   "source": [
    "print(cursor.execute(\"SELECT * FROM Students\"))"
   ]
  },
  {
   "cell_type": "code",
   "execution_count": 8,
   "metadata": {},
   "outputs": [
    {
     "name": "stdout",
     "output_type": "stream",
     "text": [
      "(1, 69, 'Kshipra', 'Dharmesh', 'Jadav', 'kdj@hotmail.com', 'btech', datetime.datetime(2022, 9, 4, 1, 15))\n",
      "(2, 2, 'tarang', 'jayendra', 'lakhmapurkar', 'tarang@gmail.com', 'bca', datetime.datetime(2022, 9, 4, 11, 18, 59))\n",
      "(3, 3, 'prit', 'mukesh', 'bakraniya', 'prit@hotmail.com', 'btech', datetime.datetime(2022, 9, 4, 11, 18, 59))\n",
      "(4, 4, 'tapodhan', 'idk', 'padia', 'tapo@gmai.com', 'commerce', datetime.datetime(2022, 9, 4, 11, 18, 59))\n",
      "(5, 5, 'arsh', 'idk', 'vora', 'arsh@gmail.pk', 'gym', datetime.datetime(2022, 9, 4, 11, 37, 23))\n",
      "(6, 6, 'daksh', 'idk', 'soni', 'daksh@hotmail.com', 'music', datetime.datetime(2022, 9, 4, 11, 37, 23))\n",
      "(7, 7, 'aum', 'idk', 'kulkarni', 'aum@yahoo.com', 'bca', datetime.datetime(2022, 9, 4, 11, 37, 23))\n"
     ]
    }
   ],
   "source": [
    "\"INSERT INTO Students VALUES (1, %s, %s, %s, ....)\""
   ]
  },
  {
   "cell_type": "code",
   "execution_count": 9,
   "metadata": {},
   "outputs": [
    {
     "data": {
      "text/plain": [
       "[(5, 5, 'arsh', 'idk', 'vora', 'arsh@gmail.pk', 'gym', '2022-09-04 19:53:54'),\n",
       " (6,\n",
       "  6,\n",
       "  'daksh',\n",
       "  'idk',\n",
       "  'soni',\n",
       "  'daksh@hotmail.com',\n",
       "  'music',\n",
       "  '2022-09-04 19:53:54'),\n",
       " (7,\n",
       "  7,\n",
       "  'aum',\n",
       "  'idk',\n",
       "  'kulkarni',\n",
       "  'aum@yahoo.com',\n",
       "  'bca',\n",
       "  '2022-09-04 19:53:54')]"
      ]
     },
     "execution_count": 9,
     "metadata": {},
     "output_type": "execute_result"
    }
   ],
   "source": [
    "list(df.itertuples(index=False, name=None))"
   ]
  },
  {
   "cell_type": "code",
   "execution_count": 11,
   "metadata": {},
   "outputs": [
    {
     "data": {
      "text/plain": [
       "'INSERT INTO Students (id, prn, student_fname, student_mname, student_lname, student_email, student_batch, created_date) values (%s, %s, %s, %s, %s, %s, %s, %s)'"
      ]
     },
     "execution_count": 11,
     "metadata": {},
     "output_type": "execute_result"
    }
   ],
   "source": [
    "        \"INSERT INTO Students (id, prn, student_fname, student_mname, student_lname, student_email, student_batch, created_date) values (5, 5, arsh, idk, vora)\""
   ]
  },
  {
   "cell_type": "code",
   "execution_count": 10,
   "metadata": {},
   "outputs": [
    {
     "data": {
      "text/html": [
       "<div>\n",
       "<style scoped>\n",
       "    .dataframe tbody tr th:only-of-type {\n",
       "        vertical-align: middle;\n",
       "    }\n",
       "\n",
       "    .dataframe tbody tr th {\n",
       "        vertical-align: top;\n",
       "    }\n",
       "\n",
       "    .dataframe thead th {\n",
       "        text-align: right;\n",
       "    }\n",
       "</style>\n",
       "<table border=\"1\" class=\"dataframe\">\n",
       "  <thead>\n",
       "    <tr style=\"text-align: right;\">\n",
       "      <th></th>\n",
       "      <th>id</th>\n",
       "      <th>prn</th>\n",
       "      <th>student_fname</th>\n",
       "      <th>student_mname</th>\n",
       "      <th>student_lname</th>\n",
       "      <th>student_email</th>\n",
       "      <th>student_batch</th>\n",
       "      <th>dt</th>\n",
       "    </tr>\n",
       "  </thead>\n",
       "  <tbody>\n",
       "    <tr>\n",
       "      <th>0</th>\n",
       "      <td>5</td>\n",
       "      <td>5</td>\n",
       "      <td>arsh</td>\n",
       "      <td>idk</td>\n",
       "      <td>vora</td>\n",
       "      <td>arsh@gmail.pk</td>\n",
       "      <td>gym</td>\n",
       "      <td>2022-09-04 19:53:54</td>\n",
       "    </tr>\n",
       "    <tr>\n",
       "      <th>1</th>\n",
       "      <td>6</td>\n",
       "      <td>6</td>\n",
       "      <td>daksh</td>\n",
       "      <td>idk</td>\n",
       "      <td>soni</td>\n",
       "      <td>daksh@hotmail.com</td>\n",
       "      <td>music</td>\n",
       "      <td>2022-09-04 19:53:54</td>\n",
       "    </tr>\n",
       "    <tr>\n",
       "      <th>2</th>\n",
       "      <td>7</td>\n",
       "      <td>7</td>\n",
       "      <td>aum</td>\n",
       "      <td>idk</td>\n",
       "      <td>kulkarni</td>\n",
       "      <td>aum@yahoo.com</td>\n",
       "      <td>bca</td>\n",
       "      <td>2022-09-04 19:53:54</td>\n",
       "    </tr>\n",
       "  </tbody>\n",
       "</table>\n",
       "</div>"
      ],
      "text/plain": [
       "   id  prn student_fname student_mname student_lname      student_email  \\\n",
       "0   5    5          arsh           idk          vora      arsh@gmail.pk   \n",
       "1   6    6         daksh           idk          soni  daksh@hotmail.com   \n",
       "2   7    7           aum           idk      kulkarni      aum@yahoo.com   \n",
       "\n",
       "  student_batch                   dt  \n",
       "0           gym  2022-09-04 19:53:54  \n",
       "1         music  2022-09-04 19:53:54  \n",
       "2           bca  2022-09-04 19:53:54  "
      ]
     },
     "execution_count": 10,
     "metadata": {},
     "output_type": "execute_result"
    }
   ],
   "source": [
    "df"
   ]
  },
  {
   "cell_type": "code",
   "execution_count": null,
   "metadata": {},
   "outputs": [],
   "source": []
  }
 ],
 "metadata": {
  "kernelspec": {
   "display_name": "Python 3.10.5 64-bit",
   "language": "python",
   "name": "python3"
  },
  "language_info": {
   "codemirror_mode": {
    "name": "ipython",
    "version": 3
   },
   "file_extension": ".py",
   "mimetype": "text/x-python",
   "name": "python",
   "nbconvert_exporter": "python",
   "pygments_lexer": "ipython3",
   "version": "3.10.5"
  },
  "orig_nbformat": 4,
  "vscode": {
   "interpreter": {
    "hash": "de66d7802e14fb2e8694b63e255d0fe3514f0a531cbbfb87d1ecc51a74f4db4d"
   }
  }
 },
 "nbformat": 4,
 "nbformat_minor": 2
}
